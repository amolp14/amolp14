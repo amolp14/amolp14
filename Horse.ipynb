{
 "cells": [
  {
   "cell_type": "code",
   "execution_count": 1,
   "metadata": {},
   "outputs": [],
   "source": [
    "import pandas as pd\n",
    "import matplotlib.pyplot as plot\n",
    "%matplotlib inline"
   ]
  },
  {
   "cell_type": "code",
   "execution_count": 2,
   "metadata": {},
   "outputs": [],
   "source": [
    "animals = pd.read_csv(\"horse.csv\")"
   ]
  },
  {
   "cell_type": "code",
   "execution_count": 3,
   "metadata": {},
   "outputs": [
    {
     "data": {
      "text/html": [
       "<div>\n",
       "<style scoped>\n",
       "    .dataframe tbody tr th:only-of-type {\n",
       "        vertical-align: middle;\n",
       "    }\n",
       "\n",
       "    .dataframe tbody tr th {\n",
       "        vertical-align: top;\n",
       "    }\n",
       "\n",
       "    .dataframe thead th {\n",
       "        text-align: right;\n",
       "    }\n",
       "</style>\n",
       "<table border=\"1\" class=\"dataframe\">\n",
       "  <thead>\n",
       "    <tr style=\"text-align: right;\">\n",
       "      <th></th>\n",
       "      <th>surgery</th>\n",
       "      <th>age</th>\n",
       "      <th>hospital_number</th>\n",
       "      <th>rectal_temp</th>\n",
       "      <th>pulse</th>\n",
       "      <th>respiratory_rate</th>\n",
       "      <th>temp_of_extremities</th>\n",
       "      <th>peripheral_pulse</th>\n",
       "      <th>mucous_membrane</th>\n",
       "      <th>capillary_refill_time</th>\n",
       "      <th>...</th>\n",
       "      <th>packed_cell_volume</th>\n",
       "      <th>total_protein</th>\n",
       "      <th>abdomo_appearance</th>\n",
       "      <th>abdomo_protein</th>\n",
       "      <th>outcome</th>\n",
       "      <th>surgical_lesion</th>\n",
       "      <th>lesion_1</th>\n",
       "      <th>lesion_2</th>\n",
       "      <th>lesion_3</th>\n",
       "      <th>cp_data</th>\n",
       "    </tr>\n",
       "  </thead>\n",
       "  <tbody>\n",
       "    <tr>\n",
       "      <th>0</th>\n",
       "      <td>no</td>\n",
       "      <td>adult</td>\n",
       "      <td>530101</td>\n",
       "      <td>38.5</td>\n",
       "      <td>66.0</td>\n",
       "      <td>28.0</td>\n",
       "      <td>cool</td>\n",
       "      <td>reduced</td>\n",
       "      <td>NaN</td>\n",
       "      <td>more_3_sec</td>\n",
       "      <td>...</td>\n",
       "      <td>45.0</td>\n",
       "      <td>8.4</td>\n",
       "      <td>NaN</td>\n",
       "      <td>NaN</td>\n",
       "      <td>died</td>\n",
       "      <td>no</td>\n",
       "      <td>11300</td>\n",
       "      <td>0</td>\n",
       "      <td>0</td>\n",
       "      <td>no</td>\n",
       "    </tr>\n",
       "    <tr>\n",
       "      <th>1</th>\n",
       "      <td>yes</td>\n",
       "      <td>adult</td>\n",
       "      <td>534817</td>\n",
       "      <td>39.2</td>\n",
       "      <td>88.0</td>\n",
       "      <td>20.0</td>\n",
       "      <td>NaN</td>\n",
       "      <td>NaN</td>\n",
       "      <td>pale_cyanotic</td>\n",
       "      <td>less_3_sec</td>\n",
       "      <td>...</td>\n",
       "      <td>50.0</td>\n",
       "      <td>85.0</td>\n",
       "      <td>cloudy</td>\n",
       "      <td>2.0</td>\n",
       "      <td>euthanized</td>\n",
       "      <td>no</td>\n",
       "      <td>2208</td>\n",
       "      <td>0</td>\n",
       "      <td>0</td>\n",
       "      <td>no</td>\n",
       "    </tr>\n",
       "    <tr>\n",
       "      <th>2</th>\n",
       "      <td>no</td>\n",
       "      <td>adult</td>\n",
       "      <td>530334</td>\n",
       "      <td>38.3</td>\n",
       "      <td>40.0</td>\n",
       "      <td>24.0</td>\n",
       "      <td>normal</td>\n",
       "      <td>normal</td>\n",
       "      <td>pale_pink</td>\n",
       "      <td>less_3_sec</td>\n",
       "      <td>...</td>\n",
       "      <td>33.0</td>\n",
       "      <td>6.7</td>\n",
       "      <td>NaN</td>\n",
       "      <td>NaN</td>\n",
       "      <td>lived</td>\n",
       "      <td>no</td>\n",
       "      <td>0</td>\n",
       "      <td>0</td>\n",
       "      <td>0</td>\n",
       "      <td>yes</td>\n",
       "    </tr>\n",
       "    <tr>\n",
       "      <th>3</th>\n",
       "      <td>yes</td>\n",
       "      <td>young</td>\n",
       "      <td>5290409</td>\n",
       "      <td>39.1</td>\n",
       "      <td>164.0</td>\n",
       "      <td>84.0</td>\n",
       "      <td>cold</td>\n",
       "      <td>normal</td>\n",
       "      <td>dark_cyanotic</td>\n",
       "      <td>more_3_sec</td>\n",
       "      <td>...</td>\n",
       "      <td>48.0</td>\n",
       "      <td>7.2</td>\n",
       "      <td>serosanguious</td>\n",
       "      <td>5.3</td>\n",
       "      <td>died</td>\n",
       "      <td>yes</td>\n",
       "      <td>2208</td>\n",
       "      <td>0</td>\n",
       "      <td>0</td>\n",
       "      <td>yes</td>\n",
       "    </tr>\n",
       "    <tr>\n",
       "      <th>4</th>\n",
       "      <td>no</td>\n",
       "      <td>adult</td>\n",
       "      <td>530255</td>\n",
       "      <td>37.3</td>\n",
       "      <td>104.0</td>\n",
       "      <td>35.0</td>\n",
       "      <td>NaN</td>\n",
       "      <td>NaN</td>\n",
       "      <td>dark_cyanotic</td>\n",
       "      <td>more_3_sec</td>\n",
       "      <td>...</td>\n",
       "      <td>74.0</td>\n",
       "      <td>7.4</td>\n",
       "      <td>NaN</td>\n",
       "      <td>NaN</td>\n",
       "      <td>died</td>\n",
       "      <td>no</td>\n",
       "      <td>4300</td>\n",
       "      <td>0</td>\n",
       "      <td>0</td>\n",
       "      <td>no</td>\n",
       "    </tr>\n",
       "  </tbody>\n",
       "</table>\n",
       "<p>5 rows × 28 columns</p>\n",
       "</div>"
      ],
      "text/plain": [
       "  surgery    age  hospital_number  rectal_temp  pulse  respiratory_rate  \\\n",
       "0      no  adult           530101         38.5   66.0              28.0   \n",
       "1     yes  adult           534817         39.2   88.0              20.0   \n",
       "2      no  adult           530334         38.3   40.0              24.0   \n",
       "3     yes  young          5290409         39.1  164.0              84.0   \n",
       "4      no  adult           530255         37.3  104.0              35.0   \n",
       "\n",
       "  temp_of_extremities peripheral_pulse mucous_membrane capillary_refill_time  \\\n",
       "0                cool          reduced             NaN            more_3_sec   \n",
       "1                 NaN              NaN   pale_cyanotic            less_3_sec   \n",
       "2              normal           normal       pale_pink            less_3_sec   \n",
       "3                cold           normal   dark_cyanotic            more_3_sec   \n",
       "4                 NaN              NaN   dark_cyanotic            more_3_sec   \n",
       "\n",
       "   ... packed_cell_volume total_protein abdomo_appearance abdomo_protein  \\\n",
       "0  ...               45.0           8.4               NaN            NaN   \n",
       "1  ...               50.0          85.0            cloudy            2.0   \n",
       "2  ...               33.0           6.7               NaN            NaN   \n",
       "3  ...               48.0           7.2     serosanguious            5.3   \n",
       "4  ...               74.0           7.4               NaN            NaN   \n",
       "\n",
       "      outcome  surgical_lesion lesion_1 lesion_2  lesion_3  cp_data  \n",
       "0        died               no    11300        0         0       no  \n",
       "1  euthanized               no     2208        0         0       no  \n",
       "2       lived               no        0        0         0      yes  \n",
       "3        died              yes     2208        0         0      yes  \n",
       "4        died               no     4300        0         0       no  \n",
       "\n",
       "[5 rows x 28 columns]"
      ]
     },
     "execution_count": 3,
     "metadata": {},
     "output_type": "execute_result"
    }
   ],
   "source": [
    "animals.head()"
   ]
  },
  {
   "cell_type": "code",
   "execution_count": 4,
   "metadata": {},
   "outputs": [
    {
     "data": {
      "text/plain": [
       "0            died\n",
       "1      euthanized\n",
       "2           lived\n",
       "3            died\n",
       "4            died\n",
       "          ...    \n",
       "294    euthanized\n",
       "295    euthanized\n",
       "296          died\n",
       "297         lived\n",
       "298    euthanized\n",
       "Name: outcome, Length: 299, dtype: object"
      ]
     },
     "execution_count": 4,
     "metadata": {},
     "output_type": "execute_result"
    }
   ],
   "source": [
    "animals.outcome"
   ]
  },
  {
   "cell_type": "code",
   "execution_count": 5,
   "metadata": {},
   "outputs": [],
   "source": [
    "target = animals['outcome']"
   ]
  },
  {
   "cell_type": "code",
   "execution_count": 6,
   "metadata": {},
   "outputs": [
    {
     "data": {
      "text/plain": [
       "array(['died', 'euthanized', 'lived'], dtype=object)"
      ]
     },
     "execution_count": 6,
     "metadata": {},
     "output_type": "execute_result"
    }
   ],
   "source": [
    "target.unique()"
   ]
  },
  {
   "cell_type": "code",
   "execution_count": 7,
   "metadata": {},
   "outputs": [],
   "source": [
    "animals =animals.drop(['outcome'],axis=1)"
   ]
  },
  {
   "cell_type": "code",
   "execution_count": 8,
   "metadata": {},
   "outputs": [
    {
     "name": "stdout",
     "output_type": "stream",
     "text": [
      "<class 'pandas.core.frame.DataFrame'>\n",
      "RangeIndex: 299 entries, 0 to 298\n",
      "Data columns (total 27 columns):\n",
      " #   Column                 Non-Null Count  Dtype  \n",
      "---  ------                 --------------  -----  \n",
      " 0   surgery                299 non-null    object \n",
      " 1   age                    299 non-null    object \n",
      " 2   hospital_number        299 non-null    int64  \n",
      " 3   rectal_temp            239 non-null    float64\n",
      " 4   pulse                  275 non-null    float64\n",
      " 5   respiratory_rate       241 non-null    float64\n",
      " 6   temp_of_extremities    243 non-null    object \n",
      " 7   peripheral_pulse       230 non-null    object \n",
      " 8   mucous_membrane        252 non-null    object \n",
      " 9   capillary_refill_time  267 non-null    object \n",
      " 10  pain                   244 non-null    object \n",
      " 11  peristalsis            255 non-null    object \n",
      " 12  abdominal_distention   243 non-null    object \n",
      " 13  nasogastric_tube       195 non-null    object \n",
      " 14  nasogastric_reflux     193 non-null    object \n",
      " 15  nasogastric_reflux_ph  53 non-null     float64\n",
      " 16  rectal_exam_feces      197 non-null    object \n",
      " 17  abdomen                181 non-null    object \n",
      " 18  packed_cell_volume     270 non-null    float64\n",
      " 19  total_protein          266 non-null    float64\n",
      " 20  abdomo_appearance      134 non-null    object \n",
      " 21  abdomo_protein         101 non-null    float64\n",
      " 22  surgical_lesion        299 non-null    object \n",
      " 23  lesion_1               299 non-null    int64  \n",
      " 24  lesion_2               299 non-null    int64  \n",
      " 25  lesion_3               299 non-null    int64  \n",
      " 26  cp_data                299 non-null    object \n",
      "dtypes: float64(7), int64(4), object(16)\n",
      "memory usage: 63.2+ KB\n"
     ]
    }
   ],
   "source": [
    "animals.info()"
   ]
  },
  {
   "cell_type": "code",
   "execution_count": 9,
   "metadata": {
    "scrolled": true
   },
   "outputs": [],
   "source": [
    "category_variables = list(animals.select_dtypes('object').columns)"
   ]
  },
  {
   "cell_type": "code",
   "execution_count": 10,
   "metadata": {},
   "outputs": [
    {
     "data": {
      "text/plain": [
       "['surgery',\n",
       " 'age',\n",
       " 'temp_of_extremities',\n",
       " 'peripheral_pulse',\n",
       " 'mucous_membrane',\n",
       " 'capillary_refill_time',\n",
       " 'pain',\n",
       " 'peristalsis',\n",
       " 'abdominal_distention',\n",
       " 'nasogastric_tube',\n",
       " 'nasogastric_reflux',\n",
       " 'rectal_exam_feces',\n",
       " 'abdomen',\n",
       " 'abdomo_appearance',\n",
       " 'surgical_lesion',\n",
       " 'cp_data']"
      ]
     },
     "execution_count": 10,
     "metadata": {},
     "output_type": "execute_result"
    }
   ],
   "source": [
    "category_variables"
   ]
  },
  {
   "cell_type": "code",
   "execution_count": 16,
   "metadata": {
    "scrolled": true
   },
   "outputs": [],
   "source": [
    "animals_encoded = pd.get_dummies(animals, columns=category_variables)"
   ]
  },
  {
   "cell_type": "code",
   "execution_count": 19,
   "metadata": {},
   "outputs": [
    {
     "name": "stdout",
     "output_type": "stream",
     "text": [
      "<class 'pandas.core.frame.DataFrame'>\n",
      "RangeIndex: 299 entries, 0 to 298\n",
      "Data columns (total 43 columns):\n",
      " #   Column                   Non-Null Count  Dtype  \n",
      "---  ------                   --------------  -----  \n",
      " 0   hospital_number          299 non-null    int64  \n",
      " 1   rectal_temp              239 non-null    float64\n",
      " 2   pulse                    275 non-null    float64\n",
      " 3   respiratory_rate         241 non-null    float64\n",
      " 4   nasogastric_reflux_ph    53 non-null     float64\n",
      " 5   packed_cell_volume       270 non-null    float64\n",
      " 6   total_protein            266 non-null    float64\n",
      " 7   abdomo_protein           101 non-null    float64\n",
      " 8   lesion_1                 299 non-null    int64  \n",
      " 9   lesion_2                 299 non-null    int64  \n",
      " 10  lesion_3                 299 non-null    int64  \n",
      " 11  surgery_0                299 non-null    uint8  \n",
      " 12  surgery_1                299 non-null    uint8  \n",
      " 13  age_0                    299 non-null    uint8  \n",
      " 14  age_1                    299 non-null    uint8  \n",
      " 15  temp_of_extremities_0    299 non-null    uint8  \n",
      " 16  temp_of_extremities_1    299 non-null    uint8  \n",
      " 17  peripheral_pulse_0       299 non-null    uint8  \n",
      " 18  peripheral_pulse_1       299 non-null    uint8  \n",
      " 19  mucous_membrane_0        299 non-null    uint8  \n",
      " 20  mucous_membrane_1        299 non-null    uint8  \n",
      " 21  capillary_refill_time_0  299 non-null    uint8  \n",
      " 22  capillary_refill_time_1  299 non-null    uint8  \n",
      " 23  pain_0                   299 non-null    uint8  \n",
      " 24  pain_1                   299 non-null    uint8  \n",
      " 25  peristalsis_0            299 non-null    uint8  \n",
      " 26  peristalsis_1            299 non-null    uint8  \n",
      " 27  abdominal_distention_0   299 non-null    uint8  \n",
      " 28  abdominal_distention_1   299 non-null    uint8  \n",
      " 29  nasogastric_tube_0       299 non-null    uint8  \n",
      " 30  nasogastric_tube_1       299 non-null    uint8  \n",
      " 31  nasogastric_reflux_0     299 non-null    uint8  \n",
      " 32  nasogastric_reflux_1     299 non-null    uint8  \n",
      " 33  rectal_exam_feces_0      299 non-null    uint8  \n",
      " 34  rectal_exam_feces_1      299 non-null    uint8  \n",
      " 35  abdomen_0                299 non-null    uint8  \n",
      " 36  abdomen_1                299 non-null    uint8  \n",
      " 37  abdomo_appearance_0      299 non-null    uint8  \n",
      " 38  abdomo_appearance_1      299 non-null    uint8  \n",
      " 39  surgical_lesion_0        299 non-null    uint8  \n",
      " 40  surgical_lesion_1        299 non-null    uint8  \n",
      " 41  cp_data_0                299 non-null    uint8  \n",
      " 42  cp_data_1                299 non-null    uint8  \n",
      "dtypes: float64(7), int64(4), uint8(32)\n",
      "memory usage: 35.2 KB\n"
     ]
    }
   ],
   "source": [
    "animals_encoded.info()"
   ]
  },
  {
   "cell_type": "code",
   "execution_count": 20,
   "metadata": {},
   "outputs": [],
   "source": [
    "from sklearn.model_selection import train_test_split\n",
    "from sklearn.preprocessing import LabelEncoder\n",
    "\n",
    "X, y = animals_encoded,target\n",
    "\n",
    "label_encoder = LabelEncoder()\n",
    "y = label_encoder.fit_transform(y)\n",
    "\n",
    "X_train, X_test, y_train, y_test = train_test_split(X, y, test_size=0.2, random_state=1)"
   ]
  },
  {
   "cell_type": "code",
   "execution_count": 21,
   "metadata": {},
   "outputs": [
    {
     "name": "stdout",
     "output_type": "stream",
     "text": [
      "(239, 43)\n"
     ]
    }
   ],
   "source": [
    "from sklearn.tree import DecisionTreeClassifier\n",
    "print(X_train.shape)"
   ]
  },
  {
   "cell_type": "code",
   "execution_count": 22,
   "metadata": {},
   "outputs": [],
   "source": [
    "missing_perc = X_train.isnull().sum()/X_train.shape[0]"
   ]
  },
  {
   "cell_type": "code",
   "execution_count": 23,
   "metadata": {},
   "outputs": [
    {
     "data": {
      "text/plain": [
       "hospital_number            0.000000\n",
       "rectal_temp                0.188285\n",
       "pulse                      0.075314\n",
       "respiratory_rate           0.196653\n",
       "nasogastric_reflux_ph      0.820084\n",
       "packed_cell_volume         0.087866\n",
       "total_protein              0.092050\n",
       "abdomo_protein             0.656904\n",
       "lesion_1                   0.000000\n",
       "lesion_2                   0.000000\n",
       "lesion_3                   0.000000\n",
       "surgery_0                  0.000000\n",
       "surgery_1                  0.000000\n",
       "age_0                      0.000000\n",
       "age_1                      0.000000\n",
       "temp_of_extremities_0      0.000000\n",
       "temp_of_extremities_1      0.000000\n",
       "peripheral_pulse_0         0.000000\n",
       "peripheral_pulse_1         0.000000\n",
       "mucous_membrane_0          0.000000\n",
       "mucous_membrane_1          0.000000\n",
       "capillary_refill_time_0    0.000000\n",
       "capillary_refill_time_1    0.000000\n",
       "pain_0                     0.000000\n",
       "pain_1                     0.000000\n",
       "peristalsis_0              0.000000\n",
       "peristalsis_1              0.000000\n",
       "abdominal_distention_0     0.000000\n",
       "abdominal_distention_1     0.000000\n",
       "nasogastric_tube_0         0.000000\n",
       "nasogastric_tube_1         0.000000\n",
       "nasogastric_reflux_0       0.000000\n",
       "nasogastric_reflux_1       0.000000\n",
       "rectal_exam_feces_0        0.000000\n",
       "rectal_exam_feces_1        0.000000\n",
       "abdomen_0                  0.000000\n",
       "abdomen_1                  0.000000\n",
       "abdomo_appearance_0        0.000000\n",
       "abdomo_appearance_1        0.000000\n",
       "surgical_lesion_0          0.000000\n",
       "surgical_lesion_1          0.000000\n",
       "cp_data_0                  0.000000\n",
       "cp_data_1                  0.000000\n",
       "dtype: float64"
      ]
     },
     "execution_count": 23,
     "metadata": {},
     "output_type": "execute_result"
    }
   ],
   "source": [
    "missing_perc"
   ]
  },
  {
   "cell_type": "code",
   "execution_count": 24,
   "metadata": {},
   "outputs": [],
   "source": [
    "columns_to_drop = list(missing_perc[missing_perc > 0.3].index)"
   ]
  },
  {
   "cell_type": "code",
   "execution_count": 25,
   "metadata": {},
   "outputs": [
    {
     "data": {
      "text/plain": [
       "['nasogastric_reflux_ph', 'abdomo_protein']"
      ]
     },
     "execution_count": 25,
     "metadata": {},
     "output_type": "execute_result"
    }
   ],
   "source": [
    "columns_to_drop"
   ]
  },
  {
   "cell_type": "code",
   "execution_count": 26,
   "metadata": {},
   "outputs": [
    {
     "name": "stderr",
     "output_type": "stream",
     "text": [
      "/opt/anaconda3/lib/python3.7/site-packages/pandas/core/frame.py:4174: SettingWithCopyWarning: \n",
      "A value is trying to be set on a copy of a slice from a DataFrame\n",
      "\n",
      "See the caveats in the documentation: https://pandas.pydata.org/pandas-docs/stable/user_guide/indexing.html#returning-a-view-versus-a-copy\n",
      "  errors=errors,\n"
     ]
    }
   ],
   "source": [
    "X_train.drop(columns_to_drop, axis=1, inplace=True)\n"
   ]
  },
  {
   "cell_type": "code",
   "execution_count": 27,
   "metadata": {},
   "outputs": [],
   "source": [
    "X_test.drop(columns_to_drop, axis=1, inplace=True)"
   ]
  },
  {
   "cell_type": "code",
   "execution_count": 28,
   "metadata": {},
   "outputs": [
    {
     "data": {
      "text/plain": [
       "hospital_number            0.000000\n",
       "rectal_temp                0.188285\n",
       "pulse                      0.075314\n",
       "respiratory_rate           0.196653\n",
       "packed_cell_volume         0.087866\n",
       "total_protein              0.092050\n",
       "lesion_1                   0.000000\n",
       "lesion_2                   0.000000\n",
       "lesion_3                   0.000000\n",
       "surgery_0                  0.000000\n",
       "surgery_1                  0.000000\n",
       "age_0                      0.000000\n",
       "age_1                      0.000000\n",
       "temp_of_extremities_0      0.000000\n",
       "temp_of_extremities_1      0.000000\n",
       "peripheral_pulse_0         0.000000\n",
       "peripheral_pulse_1         0.000000\n",
       "mucous_membrane_0          0.000000\n",
       "mucous_membrane_1          0.000000\n",
       "capillary_refill_time_0    0.000000\n",
       "capillary_refill_time_1    0.000000\n",
       "pain_0                     0.000000\n",
       "pain_1                     0.000000\n",
       "peristalsis_0              0.000000\n",
       "peristalsis_1              0.000000\n",
       "abdominal_distention_0     0.000000\n",
       "abdominal_distention_1     0.000000\n",
       "nasogastric_tube_0         0.000000\n",
       "nasogastric_tube_1         0.000000\n",
       "nasogastric_reflux_0       0.000000\n",
       "nasogastric_reflux_1       0.000000\n",
       "rectal_exam_feces_0        0.000000\n",
       "rectal_exam_feces_1        0.000000\n",
       "abdomen_0                  0.000000\n",
       "abdomen_1                  0.000000\n",
       "abdomo_appearance_0        0.000000\n",
       "abdomo_appearance_1        0.000000\n",
       "surgical_lesion_0          0.000000\n",
       "surgical_lesion_1          0.000000\n",
       "cp_data_0                  0.000000\n",
       "cp_data_1                  0.000000\n",
       "dtype: float64"
      ]
     },
     "execution_count": 28,
     "metadata": {},
     "output_type": "execute_result"
    }
   ],
   "source": [
    "X_train.isnull().sum()/X_train.shape[0]"
   ]
  },
  {
   "cell_type": "code",
   "execution_count": 29,
   "metadata": {},
   "outputs": [
    {
     "name": "stderr",
     "output_type": "stream",
     "text": [
      "/opt/anaconda3/lib/python3.7/site-packages/pandas/core/series.py:4536: SettingWithCopyWarning: \n",
      "A value is trying to be set on a copy of a slice from a DataFrame\n",
      "\n",
      "See the caveats in the documentation: https://pandas.pydata.org/pandas-docs/stable/user_guide/indexing.html#returning-a-view-versus-a-copy\n",
      "  downcast=downcast,\n"
     ]
    }
   ],
   "source": [
    "for cols in X_train.columns:\n",
    "    try: \n",
    "        X_train[cols].fillna(X_train[cols].mode()[0], inplace=True)\n",
    "    except:\n",
    "        pass"
   ]
  },
  {
   "cell_type": "code",
   "execution_count": 30,
   "metadata": {
    "scrolled": true
   },
   "outputs": [
    {
     "data": {
      "text/plain": [
       "hospital_number            0\n",
       "rectal_temp                0\n",
       "pulse                      0\n",
       "respiratory_rate           0\n",
       "packed_cell_volume         0\n",
       "total_protein              0\n",
       "lesion_1                   0\n",
       "lesion_2                   0\n",
       "lesion_3                   0\n",
       "surgery_0                  0\n",
       "surgery_1                  0\n",
       "age_0                      0\n",
       "age_1                      0\n",
       "temp_of_extremities_0      0\n",
       "temp_of_extremities_1      0\n",
       "peripheral_pulse_0         0\n",
       "peripheral_pulse_1         0\n",
       "mucous_membrane_0          0\n",
       "mucous_membrane_1          0\n",
       "capillary_refill_time_0    0\n",
       "capillary_refill_time_1    0\n",
       "pain_0                     0\n",
       "pain_1                     0\n",
       "peristalsis_0              0\n",
       "peristalsis_1              0\n",
       "abdominal_distention_0     0\n",
       "abdominal_distention_1     0\n",
       "nasogastric_tube_0         0\n",
       "nasogastric_tube_1         0\n",
       "nasogastric_reflux_0       0\n",
       "nasogastric_reflux_1       0\n",
       "rectal_exam_feces_0        0\n",
       "rectal_exam_feces_1        0\n",
       "abdomen_0                  0\n",
       "abdomen_1                  0\n",
       "abdomo_appearance_0        0\n",
       "abdomo_appearance_1        0\n",
       "surgical_lesion_0          0\n",
       "surgical_lesion_1          0\n",
       "cp_data_0                  0\n",
       "cp_data_1                  0\n",
       "dtype: int64"
      ]
     },
     "execution_count": 30,
     "metadata": {},
     "output_type": "execute_result"
    }
   ],
   "source": [
    "X_train.isnull().sum()"
   ]
  },
  {
   "cell_type": "code",
   "execution_count": 31,
   "metadata": {},
   "outputs": [],
   "source": [
    "for cols in X_test.columns:\n",
    "    try: \n",
    "        X_test[cols].fillna(X_test[cols].mode()[0], inplace=True)\n",
    "    except:\n",
    "        pass"
   ]
  },
  {
   "cell_type": "code",
   "execution_count": 32,
   "metadata": {
    "scrolled": true
   },
   "outputs": [
    {
     "data": {
      "text/plain": [
       "hospital_number            0\n",
       "rectal_temp                0\n",
       "pulse                      0\n",
       "respiratory_rate           0\n",
       "packed_cell_volume         0\n",
       "total_protein              0\n",
       "lesion_1                   0\n",
       "lesion_2                   0\n",
       "lesion_3                   0\n",
       "surgery_0                  0\n",
       "surgery_1                  0\n",
       "age_0                      0\n",
       "age_1                      0\n",
       "temp_of_extremities_0      0\n",
       "temp_of_extremities_1      0\n",
       "peripheral_pulse_0         0\n",
       "peripheral_pulse_1         0\n",
       "mucous_membrane_0          0\n",
       "mucous_membrane_1          0\n",
       "capillary_refill_time_0    0\n",
       "capillary_refill_time_1    0\n",
       "pain_0                     0\n",
       "pain_1                     0\n",
       "peristalsis_0              0\n",
       "peristalsis_1              0\n",
       "abdominal_distention_0     0\n",
       "abdominal_distention_1     0\n",
       "nasogastric_tube_0         0\n",
       "nasogastric_tube_1         0\n",
       "nasogastric_reflux_0       0\n",
       "nasogastric_reflux_1       0\n",
       "rectal_exam_feces_0        0\n",
       "rectal_exam_feces_1        0\n",
       "abdomen_0                  0\n",
       "abdomen_1                  0\n",
       "abdomo_appearance_0        0\n",
       "abdomo_appearance_1        0\n",
       "surgical_lesion_0          0\n",
       "surgical_lesion_1          0\n",
       "cp_data_0                  0\n",
       "cp_data_1                  0\n",
       "dtype: int64"
      ]
     },
     "execution_count": 32,
     "metadata": {},
     "output_type": "execute_result"
    }
   ],
   "source": [
    "X_test.isnull().sum()"
   ]
  },
  {
   "cell_type": "code",
   "execution_count": 33,
   "metadata": {},
   "outputs": [],
   "source": [
    "classifier = DecisionTreeClassifier()"
   ]
  },
  {
   "cell_type": "code",
   "execution_count": 34,
   "metadata": {},
   "outputs": [
    {
     "data": {
      "text/plain": [
       "DecisionTreeClassifier()"
      ]
     },
     "execution_count": 34,
     "metadata": {},
     "output_type": "execute_result"
    }
   ],
   "source": [
    "classifier.fit(X_train,y_train)"
   ]
  },
  {
   "cell_type": "code",
   "execution_count": 35,
   "metadata": {},
   "outputs": [],
   "source": [
    "y_predict = classifier.predict(X_test)"
   ]
  },
  {
   "cell_type": "code",
   "execution_count": 36,
   "metadata": {},
   "outputs": [],
   "source": [
    "from sklearn.metrics import accuracy_score"
   ]
  },
  {
   "cell_type": "code",
   "execution_count": 37,
   "metadata": {},
   "outputs": [],
   "source": [
    "accuracy = accuracy_score(y_predict,y_test)"
   ]
  },
  {
   "cell_type": "code",
   "execution_count": 38,
   "metadata": {},
   "outputs": [
    {
     "name": "stdout",
     "output_type": "stream",
     "text": [
      "1.0\n",
      "0.5833333333333334\n"
     ]
    }
   ],
   "source": [
    "print(classifier.score(X_train,y_train))\n",
    "print(accuracy)"
   ]
  },
  {
   "cell_type": "code",
   "execution_count": 57,
   "metadata": {},
   "outputs": [],
   "source": [
    "classifier = DecisionTreeClassifier(max_depth=3, min_samples_split=5, min_samples_leaf=5)"
   ]
  },
  {
   "cell_type": "code",
   "execution_count": 58,
   "metadata": {},
   "outputs": [
    {
     "data": {
      "text/plain": [
       "DecisionTreeClassifier(max_depth=3, min_samples_leaf=5, min_samples_split=5)"
      ]
     },
     "execution_count": 58,
     "metadata": {},
     "output_type": "execute_result"
    }
   ],
   "source": [
    "classifier.fit(X_train,y_train)"
   ]
  },
  {
   "cell_type": "code",
   "execution_count": 59,
   "metadata": {},
   "outputs": [],
   "source": [
    "y_predict = classifier.predict(X_test)"
   ]
  },
  {
   "cell_type": "code",
   "execution_count": 60,
   "metadata": {},
   "outputs": [],
   "source": [
    "from sklearn.metrics import accuracy_score"
   ]
  },
  {
   "cell_type": "code",
   "execution_count": 61,
   "metadata": {},
   "outputs": [],
   "source": [
    "accuracy = accuracy_score(y_predict,y_test)"
   ]
  },
  {
   "cell_type": "code",
   "execution_count": 62,
   "metadata": {},
   "outputs": [
    {
     "name": "stdout",
     "output_type": "stream",
     "text": [
      "0.7071129707112971\n",
      "0.6\n"
     ]
    }
   ],
   "source": [
    "print(classifier.score(X_train,y_train))\n",
    "print(accuracy)"
   ]
  },
  {
   "cell_type": "code",
   "execution_count": null,
   "metadata": {},
   "outputs": [],
   "source": []
  },
  {
   "cell_type": "code",
   "execution_count": 63,
   "metadata": {},
   "outputs": [],
   "source": [
    "from sklearn.ensemble import RandomForestClassifier\n",
    "classifier = RandomForestClassifier()"
   ]
  },
  {
   "cell_type": "code",
   "execution_count": 64,
   "metadata": {},
   "outputs": [
    {
     "name": "stdout",
     "output_type": "stream",
     "text": [
      "1.0\n",
      "0.6666666666666666\n"
     ]
    }
   ],
   "source": [
    "classifier.fit(X_train,y_train)\n",
    "\n",
    "y_predict = classifier.predict(X_test)\n",
    "accuracy = accuracy_score(y_predict,y_test)\n",
    "\n",
    "print(classifier.score(X_train,y_train))\n",
    "print(accuracy)"
   ]
  },
  {
   "cell_type": "code",
   "execution_count": 75,
   "metadata": {},
   "outputs": [],
   "source": [
    "classifier = RandomForestClassifier(n_estimators=100, max_depth=7)"
   ]
  },
  {
   "cell_type": "code",
   "execution_count": 76,
   "metadata": {},
   "outputs": [
    {
     "name": "stdout",
     "output_type": "stream",
     "text": [
      "0.9497907949790795\n",
      "0.7\n"
     ]
    }
   ],
   "source": [
    "classifier.fit(X_train,y_train)\n",
    "y_predict = classifier.predict(X_test)\n",
    "accuracy = accuracy_score(y_predict,y_test)\n",
    "print(classifier.score(X_train,y_train))\n",
    "print(accuracy)"
   ]
  },
  {
   "cell_type": "code",
   "execution_count": null,
   "metadata": {},
   "outputs": [],
   "source": []
  }
 ],
 "metadata": {
  "kernelspec": {
   "display_name": "Python 3",
   "language": "python",
   "name": "python3"
  },
  "language_info": {
   "codemirror_mode": {
    "name": "ipython",
    "version": 3
   },
   "file_extension": ".py",
   "mimetype": "text/x-python",
   "name": "python",
   "nbconvert_exporter": "python",
   "pygments_lexer": "ipython3",
   "version": "3.8.8"
  }
 },
 "nbformat": 4,
 "nbformat_minor": 2
}
